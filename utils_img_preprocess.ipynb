{
 "cells": [
  {
   "cell_type": "code",
   "execution_count": 40,
   "metadata": {},
   "outputs": [],
   "source": [
    "import ipywidgets as widgets\n",
    "import cv2\n",
    "import numpy as np"
   ]
  },
  {
   "cell_type": "markdown",
   "metadata": {},
   "source": [
    "### 1. 색상 공간 변환 함수"
   ]
  },
  {
   "cell_type": "code",
   "execution_count": null,
   "metadata": {},
   "outputs": [],
   "source": [
    "# utils\n",
    "def convert_to_hsv_space(image):\n",
    "    return cv2.cvtColor(image, cv2.COLOR_BGR2HSV)\n",
    "\n",
    "def convert_to_hls_space(image):\n",
    "    return cv2.cvtColor(image, cv2.COLOR_BGR2HLS)\n",
    "\n",
    "def convert_to_gray_space(image):\n",
    "    return cv2.cvtColor(image, cv2.COLOR_BGR2GRAY)"
   ]
  },
  {
   "cell_type": "code",
   "execution_count": 18,
   "metadata": {},
   "outputs": [
    {
     "name": "stdout",
     "output_type": "stream",
     "text": [
      "img shape:  (786, 1200, 3)\n",
      "hsv_img shape:  (786, 1200, 3)\n",
      "hls_img shape:  (786, 1200, 3)\n",
      "gray_img shape:  (786, 1200)\n"
     ]
    }
   ],
   "source": [
    "# example\n",
    "img = cv2.imread('./road.jpg')\n",
    "hsv_img = convert_to_hsv_space(img)\n",
    "hls_img = convert_to_hls_space(img)\n",
    "gray_img = convert_to_gray_space(img)\n",
    "\n",
    "print(\"img shape: \", img.shape)\n",
    "print(\"hsv_img shape: \", hsv_img.shape)\n",
    "print(\"hls_img shape: \", hls_img.shape)\n",
    "print(\"gray_img shape: \", gray_img.shape)\n"
   ]
  },
  {
   "cell_type": "code",
   "execution_count": null,
   "metadata": {},
   "outputs": [
    {
     "data": {
      "application/vnd.jupyter.widget-view+json": {
       "model_id": "d9e57d2c310c4f83bf87f7f2a52d4cb4",
       "version_major": 2,
       "version_minor": 0
      },
      "text/plain": [
       "VBox(children=(Image(value=b'\\xff\\xd8\\xff\\xe0\\x00\\x10JFIF\\x00\\x01\\x01\\x00\\x00\\x01\\x00\\x01\\x00\\x00\\xff\\xdb\\x00C…"
      ]
     },
     "metadata": {},
     "output_type": "display_data"
    }
   ],
   "source": [
    "# visualization\n",
    "\n",
    "import ipywidgets as widgets\n",
    "\n",
    "# 이미지를 JPEG 바이트로 변환하는 함수\n",
    "def convert_to_bytes(image):\n",
    "    _, buffer = cv2.imencode('.jpg', image)\n",
    "    return buffer.tobytes()\n",
    "\n",
    "widget_img = widgets.Image(format='jpeg')\n",
    "widget_img.value = convert_to_bytes(cv2.cvtColor(img, cv2.COLOR_BGR2RGB))\n",
    "\n",
    "widget_hsv_img = widgets.Image(format='jpeg')\n",
    "widget_hsv_img.value = convert_to_bytes(cv2.cvtColor(hsv_img, cv2.COLOR_BGR2RGB))\n",
    "\n",
    "widget_hls_img = widgets.Image(format='jpeg')\n",
    "widget_hls_img.value = convert_to_bytes(cv2.cvtColor(hls_img, cv2.COLOR_BGR2RGB))\n",
    "\n",
    "widget_gray_img = widgets.Image(format='jpeg')\n",
    "widget_gray_img.value = convert_to_bytes(gray_img)\n",
    "\n",
    "display(widgets.VBox([widget_img, widget_hsv_img, widget_hls_img, widget_gray_img]))"
   ]
  },
  {
   "cell_type": "markdown",
   "metadata": {},
   "source": [
    "### 2. Gaussian Blur"
   ]
  },
  {
   "cell_type": "code",
   "execution_count": 36,
   "metadata": {},
   "outputs": [],
   "source": [
    "def apply_gaussian_blur(image, kernel_size=(51, 51)): # 커널은 양수인 홀수이어야 함 #\n",
    "    return cv2.GaussianBlur(image, kernel_size, 0)\n"
   ]
  },
  {
   "cell_type": "code",
   "execution_count": 37,
   "metadata": {},
   "outputs": [],
   "source": [
    "# example\n",
    "img = cv2.imread('./road.jpg')\n",
    "\n",
    "apply_gaussian_blur_img = apply_gaussian_blur(img)"
   ]
  },
  {
   "cell_type": "code",
   "execution_count": 38,
   "metadata": {},
   "outputs": [
    {
     "data": {
      "application/vnd.jupyter.widget-view+json": {
       "model_id": "26c11a29271249dab24d9ccff24e6a59",
       "version_major": 2,
       "version_minor": 0
      },
      "text/plain": [
       "VBox(children=(Image(value=b'\\xff\\xd8\\xff\\xe0\\x00\\x10JFIF\\x00\\x01\\x01\\x00\\x00\\x01\\x00\\x01\\x00\\x00\\xff\\xdb\\x00C…"
      ]
     },
     "metadata": {},
     "output_type": "display_data"
    }
   ],
   "source": [
    "# visualization\n",
    "\n",
    "import ipywidgets as widgets\n",
    "\n",
    "# 이미지를 JPEG 바이트로 변환하는 함수\n",
    "def convert_to_bytes(image):\n",
    "    _, buffer = cv2.imencode('.jpg', image)\n",
    "    return buffer.tobytes()\n",
    "\n",
    "widget_img = widgets.Image(format='jpeg')\n",
    "widget_img.value = convert_to_bytes(cv2.cvtColor(apply_gaussian_blur_img, cv2.COLOR_BGR2RGB))\n",
    "\n",
    "display(widgets.VBox([widget_img]))"
   ]
  },
  {
   "cell_type": "markdown",
   "metadata": {},
   "source": [
    "### 3-1 이진화: 특정 색상 마스크를 통한 이진화 처리 \n",
    "* 특정 range의 색이면 흰색 아니면 검은색 (basically just using the mask)"
   ]
  },
  {
   "cell_type": "code",
   "execution_count": 42,
   "metadata": {},
   "outputs": [],
   "source": [
    "# 이진화 함수\n",
    "def binarize_image(image, lower_range, upper_range):\n",
    "    hsv_image = cv2.cvtColor(image, cv2.COLOR_BGR2HSV)\n",
    "    mask = cv2.inRange(hsv_image, lower_range, upper_range)\n",
    "    return mask\n"
   ]
  },
  {
   "cell_type": "code",
   "execution_count": null,
   "metadata": {},
   "outputs": [
    {
     "name": "stdout",
     "output_type": "stream",
     "text": [
      "img shape:  (786, 1200, 3)\n",
      "binary_img shape:  (786, 1200)\n"
     ]
    }
   ],
   "source": [
    "# example\n",
    "img = cv2.imread('./road.jpg')\n",
    "\n",
    "## 색상 범위 정의 (예: 흰색 범위)\n",
    "lower_white = np.array([0, 0, 200])   \n",
    "upper_white = np.array([180, 55, 255]) \n",
    "binary_img = binarize_image(img, lower_white, upper_white)\n",
    "\n",
    "\n",
    "print(\"img shape: \", img.shape)\n",
    "print(\"binary_img shape: \", binary_img.shape)\n"
   ]
  },
  {
   "cell_type": "code",
   "execution_count": 46,
   "metadata": {},
   "outputs": [
    {
     "data": {
      "application/vnd.jupyter.widget-view+json": {
       "model_id": "6edf4f9cbe7549bd8e4bad9f586a5e87",
       "version_major": 2,
       "version_minor": 0
      },
      "text/plain": [
       "VBox(children=(Image(value=b'\\xff\\xd8\\xff\\xe0\\x00\\x10JFIF\\x00\\x01\\x01\\x00\\x00\\x01\\x00\\x01\\x00\\x00\\xff\\xdb\\x00C…"
      ]
     },
     "metadata": {},
     "output_type": "display_data"
    }
   ],
   "source": [
    "# visualization\n",
    "\n",
    "import ipywidgets as widgets\n",
    "\n",
    "# 이미지를 JPEG 바이트로 변환하는 함수\n",
    "def convert_to_bytes(image):\n",
    "    _, buffer = cv2.imencode('.jpg', image)\n",
    "    return buffer.tobytes()\n",
    "\n",
    "widget_img = widgets.Image(format='jpeg')\n",
    "widget_img.value = convert_to_bytes(binary_img)\n",
    "\n",
    "\n",
    "display(widgets.VBox([widget_img]))"
   ]
  },
  {
   "cell_type": "markdown",
   "metadata": {},
   "source": [
    "### 3-2 특정 색상 추출 "
   ]
  },
  {
   "cell_type": "code",
   "execution_count": 48,
   "metadata": {},
   "outputs": [],
   "source": [
    "# 특정 색상(범위) 추춮 함수\n",
    "def extract_image_color(image, lower_range, upper_range):\n",
    "    hsv_image = cv2.cvtColor(image, cv2.COLOR_BGR2HSV)\n",
    "    mask = cv2.inRange(hsv_image, lower_range, upper_range)\n",
    "    extract_image = cv2.bitwise_and(image, image, mask=mask)\n",
    "    return extract_image\n"
   ]
  },
  {
   "cell_type": "code",
   "execution_count": 50,
   "metadata": {},
   "outputs": [
    {
     "name": "stdout",
     "output_type": "stream",
     "text": [
      "img shape:  (786, 1200, 3)\n",
      "extract_img shape:  (786, 1200, 3)\n"
     ]
    }
   ],
   "source": [
    "# example\n",
    "img = cv2.imread('./road.jpg')\n",
    "\n",
    "## 색상 범위 정의 (예: 흰색 범위)\n",
    "lower_green = np.array([35, 100, 100])   # Low-end for green in HSV\n",
    "upper_green = np.array([85, 255, 255])   # High-end for green in HSV\n",
    "\n",
    "extract_img = extract_image_color(img, lower_green, upper_green)\n",
    "\n",
    "\n",
    "print(\"img shape: \", img.shape)\n",
    "print(\"extract_img shape: \", extract_img.shape)\n"
   ]
  },
  {
   "cell_type": "code",
   "execution_count": 53,
   "metadata": {},
   "outputs": [
    {
     "data": {
      "application/vnd.jupyter.widget-view+json": {
       "model_id": "3deb5028f58e48409bacc83a3b624de9",
       "version_major": 2,
       "version_minor": 0
      },
      "text/plain": [
       "VBox(children=(Image(value=b'\\xff\\xd8\\xff\\xe0\\x00\\x10JFIF\\x00\\x01\\x01\\x00\\x00\\x01\\x00\\x01\\x00\\x00\\xff\\xdb\\x00C…"
      ]
     },
     "metadata": {},
     "output_type": "display_data"
    }
   ],
   "source": [
    "# visualization\n",
    "\n",
    "import ipywidgets as widgets\n",
    "\n",
    "# 이미지를 JPEG 바이트로 변환하는 함수\n",
    "def convert_to_bytes(image):\n",
    "    _, buffer = cv2.imencode('.jpg', image)\n",
    "    return buffer.tobytes()\n",
    "\n",
    "widget_img = widgets.Image(format='jpeg')\n",
    "widget_img.value = convert_to_bytes(extract_img)\n",
    "\n",
    "\n",
    "display(widgets.VBox([widget_img]))"
   ]
  },
  {
   "cell_type": "markdown",
   "metadata": {},
   "source": [
    "### 4-1 엣지 추출"
   ]
  },
  {
   "cell_type": "code",
   "execution_count": 54,
   "metadata": {},
   "outputs": [],
   "source": [
    "# 엣지 추출\n",
    "def extract_edge(image):\n",
    "    gray = cv2.cvtColor(image, cv2.COLOR_BGR2GRAY)\n",
    "    blurred = cv2.GaussianBlur(gray, (5, 5), 0)\n",
    "    edges = cv2.Canny(blurred, 50, 150)\n",
    "    return edges\n"
   ]
  },
  {
   "cell_type": "code",
   "execution_count": 55,
   "metadata": {},
   "outputs": [
    {
     "name": "stdout",
     "output_type": "stream",
     "text": [
      "img shape:  (786, 1200, 3)\n",
      "extract_img shape:  (786, 1200)\n"
     ]
    }
   ],
   "source": [
    "# example\n",
    "img = cv2.imread('./road.jpg')\n",
    "\n",
    "edge_img = extract_edge(img)\n",
    "\n",
    "\n",
    "print(\"img shape: \", img.shape)\n",
    "print(\"extract_img shape: \", edge_img.shape)\n"
   ]
  },
  {
   "cell_type": "code",
   "execution_count": 56,
   "metadata": {},
   "outputs": [
    {
     "data": {
      "application/vnd.jupyter.widget-view+json": {
       "model_id": "36f011f1b09e4057b80ea5b97baf1484",
       "version_major": 2,
       "version_minor": 0
      },
      "text/plain": [
       "VBox(children=(Image(value=b'\\xff\\xd8\\xff\\xe0\\x00\\x10JFIF\\x00\\x01\\x01\\x00\\x00\\x01\\x00\\x01\\x00\\x00\\xff\\xdb\\x00C…"
      ]
     },
     "metadata": {},
     "output_type": "display_data"
    }
   ],
   "source": [
    "# visualization\n",
    "\n",
    "import ipywidgets as widgets\n",
    "\n",
    "# 이미지를 JPEG 바이트로 변환하는 함수\n",
    "def convert_to_bytes(image):\n",
    "    _, buffer = cv2.imencode('.jpg', image)\n",
    "    return buffer.tobytes()\n",
    "\n",
    "widget_img = widgets.Image(format='jpeg')\n",
    "widget_img.value = convert_to_bytes(edge_img)\n",
    "\n",
    "\n",
    "display(widgets.VBox([widget_img]))"
   ]
  },
  {
   "cell_type": "markdown",
   "metadata": {},
   "source": [
    "### 4-2 엣지 강조"
   ]
  },
  {
   "cell_type": "code",
   "execution_count": 59,
   "metadata": {},
   "outputs": [],
   "source": [
    "# 엣지 강조\n",
    "def add_edge(image):\n",
    "    gray = cv2.cvtColor(image, cv2.COLOR_BGR2GRAY)\n",
    "    blurred = cv2.GaussianBlur(gray, (5, 5), 0)\n",
    "    edges = cv2.Canny(blurred, 50, 150)\n",
    "\n",
    "    contours, _ = cv2.findContours(edges, cv2.RETR_EXTERNAL, cv2.CHAIN_APPROX_SIMPLE)\n",
    "\n",
    "    image_rgb = cv2.cvtColor(image, cv2.COLOR_BGR2RGB)\n",
    "    cv2.drawContours(image_rgb, contours, -1, (0, 0, 0), 2)\n",
    "    return image_rgb\n",
    "\n"
   ]
  },
  {
   "cell_type": "code",
   "execution_count": 60,
   "metadata": {},
   "outputs": [
    {
     "name": "stdout",
     "output_type": "stream",
     "text": [
      "img shape:  (786, 1200, 3)\n",
      "edge_added_img shape:  (786, 1200, 3)\n"
     ]
    }
   ],
   "source": [
    "# example\n",
    "img = cv2.imread('./road.jpg')\n",
    "\n",
    "edge_added_img = add_edge(img)\n",
    "\n",
    "\n",
    "print(\"img shape: \", img.shape)\n",
    "print(\"edge_added_img shape: \", edge_added_img.shape)"
   ]
  },
  {
   "cell_type": "code",
   "execution_count": 61,
   "metadata": {},
   "outputs": [
    {
     "data": {
      "application/vnd.jupyter.widget-view+json": {
       "model_id": "d010bf0a48174e8fb6bb2293b1b16d50",
       "version_major": 2,
       "version_minor": 0
      },
      "text/plain": [
       "VBox(children=(Image(value=b'\\xff\\xd8\\xff\\xe0\\x00\\x10JFIF\\x00\\x01\\x01\\x00\\x00\\x01\\x00\\x01\\x00\\x00\\xff\\xdb\\x00C…"
      ]
     },
     "metadata": {},
     "output_type": "display_data"
    }
   ],
   "source": [
    "# visualization\n",
    "\n",
    "import ipywidgets as widgets\n",
    "\n",
    "# 이미지를 JPEG 바이트로 변환하는 함수\n",
    "def convert_to_bytes(image):\n",
    "    _, buffer = cv2.imencode('.jpg', image)\n",
    "    return buffer.tobytes()\n",
    "\n",
    "widget_img = widgets.Image(format='jpeg')\n",
    "widget_img.value = convert_to_bytes(edge_added_img)\n",
    "\n",
    "\n",
    "display(widgets.VBox([widget_img]))"
   ]
  },
  {
   "cell_type": "markdown",
   "metadata": {},
   "source": []
  }
 ],
 "metadata": {
  "kernelspec": {
   "display_name": "maicon_study-1-jKrWnc",
   "language": "python",
   "name": "python3"
  },
  "language_info": {
   "codemirror_mode": {
    "name": "ipython",
    "version": 3
   },
   "file_extension": ".py",
   "mimetype": "text/x-python",
   "name": "python",
   "nbconvert_exporter": "python",
   "pygments_lexer": "ipython3",
   "version": "3.11.4"
  }
 },
 "nbformat": 4,
 "nbformat_minor": 2
}
